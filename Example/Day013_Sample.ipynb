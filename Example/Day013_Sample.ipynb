{
 "cells": [
  {
   "cell_type": "markdown",
   "metadata": {},
   "source": [
    "# PTT 網路爬蟲實作練習\n",
    "\n",
    "\n",
    "* 能夠利用 Request + BeatifulSour 撰寫爬蟲，並存放到合適的資料結構\n"
   ]
  },
  {
   "cell_type": "markdown",
   "metadata": {},
   "source": [
    "## PTT 網頁爬蟲"
   ]
  },
  {
   "cell_type": "code",
   "execution_count": 1,
   "metadata": {},
   "outputs": [
    {
     "name": "stdout",
     "output_type": "stream",
     "text": [
      "[情報] 快艇在主場二連敗(0-2)後贏下系列賽\n",
      "作者: avrild12 (78elic)\n",
      "[公告] 水桶 x 15 + 記者廖柏璋LBZ條款\n",
      "作者: pneumo (超☆冒險蓋)\n",
      "[花邊] Doncic忘記和PG交換球衣\n",
      "作者: h1212123tw (der龜)\n",
      "[討論] 老鷹和小犢是不是證明了躲東區很爽\n",
      "作者: Bz5566 (只剩協志和仁甫的5566)\n",
      "[討論] 季後賽第一輪EFF排名/得分/命中率(EFF20+)\n",
      "作者: MrSatan (老大!!!!!!!!)\n",
      "[情報] Quin Snyder：快艇的陣容深度讓他們變得獨一無二\n",
      "作者: laptic (靜夜聖林彼岸花)\n",
      "Re: [討論] 獨行俠這到底什麼交易\n",
      "作者: joulin (joulin)\n",
      "[討論] 快艇vs爵士看好誰？\n",
      "作者: liuuuuuu (倘若那天)\n",
      "[花邊] NBA打壓亞裔？韓裔影星貼數據聲援林書豪\n",
      "作者: XperiaZ6C (索尼)\n",
      "[討論] NBA季後賽第一輪單場得分40+\n",
      "作者: a221657947 (a221657947)\n",
      "[情報] Playoffs Schedule 20–21\n",
      "作者: laptic (靜夜聖林彼岸花)\n",
      "[情報] 2020-21 NBA Playoffs (Next：06/08 鹿網 G2/陽金 G1)\n",
      "作者: laptic (靜夜聖林彼岸花)\n",
      "[公告] 板規v7.2\n",
      "[公告] NBA_Picket 檢舉板上線 \n",
      "作者: Induction (愛人愛己)\n",
      "[公告] 季後賽條款\n",
      "作者: Induction (愛人愛己)\n"
     ]
    }
   ],
   "source": [
    "import requests\n",
    "from bs4 import BeautifulSoup\n",
    "\n",
    "url = 'https://www.ptt.cc/bbs/NBA/index.html'\n",
    "r = requests.get(url)\n",
    "\n",
    "soup = BeautifulSoup(r.text, \"html5lib\")\n",
    "\n",
    "for d in soup.find_all(class_=\"title\"):\n",
    "    print(d.text.replace('\\t', '').replace('\\n', ''))\n",
    "    try:\n",
    "        r = BeautifulSoup(requests.get('https://www.ptt.cc'+d.find('a')['href']).text, \"html5lib\")\n",
    "        print('作者: ' + r.find(class_='article-meta-value').text)\n",
    "        \n",
    "    except:\n",
    "        continue\n"
   ]
  },
  {
   "cell_type": "markdown",
   "metadata": {},
   "source": [
    "## 作業目標\n",
    "\n",
    "根據範例 ，完成以下問題：\n",
    "\n",
    "* ① 印出最新文章的「作者」「標題」「時間」\n",
    "* ② 印出第一頁所有文章的「作者」「標題」「時間」\n",
    "* ③ 試著爬爬看其他版的文章\n"
   ]
  },
  {
   "cell_type": "code",
   "execution_count": null,
   "metadata": {},
   "outputs": [],
   "source": []
  }
 ],
 "metadata": {
  "kernelspec": {
   "display_name": "Python 3",
   "language": "python",
   "name": "python3"
  },
  "language_info": {
   "codemirror_mode": {
    "name": "ipython",
    "version": 3
   },
   "file_extension": ".py",
   "mimetype": "text/x-python",
   "name": "python",
   "nbconvert_exporter": "python",
   "pygments_lexer": "ipython3",
   "version": "3.8.1"
  }
 },
 "nbformat": 4,
 "nbformat_minor": 4
}
