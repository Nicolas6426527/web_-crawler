{
 "cells": [
  {
   "cell_type": "code",
   "execution_count": 1,
   "id": "8b339599-5cf3-4a46-bbf7-6fae0a47f3a3",
   "metadata": {},
   "outputs": [],
   "source": [
    "import json"
   ]
  },
  {
   "cell_type": "code",
   "execution_count": 14,
   "id": "e457ddcd-98f0-4b97-a4ea-bf09f7fee07e",
   "metadata": {},
   "outputs": [],
   "source": [
    "f =open(\"ettoday.json\",\"r\")"
   ]
  },
  {
   "cell_type": "code",
   "execution_count": 15,
   "id": "acb257a6-659d-4110-8524-6ba9839e2bef",
   "metadata": {},
   "outputs": [],
   "source": [
    "j=json.load(f)"
   ]
  },
  {
   "cell_type": "code",
   "execution_count": 26,
   "id": "4425456c-a90e-4493-b29a-1c8fa0338f89",
   "metadata": {},
   "outputs": [
    {
     "data": {
      "text/plain": [
       "'雙十國慶節目三大亮點曝光\\u3000內行攻略看這裡'"
      ]
     },
     "execution_count": 26,
     "metadata": {},
     "output_type": "execute_result"
    }
   ],
   "source": [
    "a=j[0][\"title\"]\n",
    "a"
   ]
  },
  {
   "cell_type": "code",
   "execution_count": 27,
   "id": "4d43d104-b236-4d00-8429-aad5ed68a4f8",
   "metadata": {},
   "outputs": [
    {
     "data": {
      "text/plain": [
       "'雙十國慶節目三大亮點曝光內行攻略看這裡'"
      ]
     },
     "execution_count": 27,
     "metadata": {},
     "output_type": "execute_result"
    }
   ],
   "source": [
    "a.replace(\"\\u3000\",\"\")"
   ]
  }
 ],
 "metadata": {
  "kernelspec": {
   "display_name": "Python 3",
   "language": "python",
   "name": "python3"
  },
  "language_info": {
   "codemirror_mode": {
    "name": "ipython",
    "version": 3
   },
   "file_extension": ".py",
   "mimetype": "text/x-python",
   "name": "python",
   "nbconvert_exporter": "python",
   "pygments_lexer": "ipython3",
   "version": "3.9.5"
  }
 },
 "nbformat": 4,
 "nbformat_minor": 5
}
