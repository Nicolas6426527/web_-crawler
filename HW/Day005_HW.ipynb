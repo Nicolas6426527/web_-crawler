{
 "cells": [
  {
   "cell_type": "markdown",
   "metadata": {},
   "source": [
    "# API 資料串接 - 以 Dcard API 實作範例\n",
    "\n",
    "* 了解 Dcard API 使用方式與回傳內容\n",
    "* 撰寫程式存取 API 且解析 JSON 格式資料\n"
   ]
  },
  {
   "cell_type": "markdown",
   "metadata": {},
   "source": [
    "## 作業目標\n",
    "\n",
    "* 請利用 API: https://www.dcard.tw/_api/forums/pet/posts?popular=true 回答下列問題：\n",
    "\n",
    "1. 這個 API 一次會回傳幾筆資料？每一筆資料包含哪些欄位？\n",
    "2. 取出每一筆資料的「標題」、「貼文時間」、「留言人數」、「按讚人數」\n",
    "3. 計算熱門/非熱門文章的「平均留言人數」與「平均按讚人數」"
   ]
  },
  {
   "cell_type": "code",
   "execution_count": 1,
   "metadata": {},
   "outputs": [],
   "source": [
    "# 1. 這個 API 一次會回傳幾筆資料？每一筆資料包含哪些欄位？\n",
    "\n",
    "'''\n",
    "Your Code\n",
    "'''\n",
    "import requests\n",
    "import json"
   ]
  },
  {
   "cell_type": "code",
   "execution_count": 2,
   "metadata": {},
   "outputs": [],
   "source": [
    "r = requests.get(\"https://www.dcard.tw/_api/forums/pet/posts?popular=true\")"
   ]
  },
  {
   "cell_type": "code",
   "execution_count": 12,
   "metadata": {},
   "outputs": [
    {
     "name": "stdout",
     "output_type": "stream",
     "text": [
      "一次會回傳幾筆資料30\n",
      "每一筆資料包含哪些欄位dict_keys(['id', 'title', 'excerpt', 'anonymousSchool', 'anonymousDepartment', 'pinned', 'forumId', 'replyId', 'createdAt', 'updatedAt', 'commentCount', 'likeCount', 'withNickname', 'tags', 'topics', 'meta', 'forumName', 'forumAlias', 'nsfw', 'gender', 'school', 'department', 'replyTitle', 'mediaMeta', 'reactions', 'hidden', 'customStyle', 'isSuspiciousAccount', 'isModerator', 'layout', 'spoilerAlert', 'withImages', 'withVideos', 'media', 'reportReasonText', 'excerptComments', 'postAvatar', 'verifiedBadge', 'memberType'])\n"
     ]
    }
   ],
   "source": [
    "response = r.text\n",
    "data = json.loads(response)\n",
    "print(\"一次會回傳幾筆資料\"+str(len(data)))\n",
    "print(\"每一筆資料包含哪些欄位\"+str(data[1].keys()))"
   ]
  },
  {
   "cell_type": "code",
   "execution_count": 33,
   "metadata": {},
   "outputs": [
    {
     "name": "stdout",
     "output_type": "stream",
     "text": [
      "標題:我帶我的狗狗一起乘坐客艙從美國來台灣啦\n",
      "貼文時間:2021-06-03T04:11:11.143Z\n",
      "留言人數:59\n",
      "按讚人數:1117\n",
      "標題:養了一顆奇異果🥝\n",
      "貼文時間:2021-06-03T02:52:03.154Z\n",
      "留言人數:35\n",
      "按讚人數:287\n",
      "標題:你怎麼那麼可愛吶\n",
      "貼文時間:2021-06-03T03:32:13.980Z\n",
      "留言人數:17\n",
      "按讚人數:185\n",
      "標題:送養貓咪後認養人不誠實回覆\n",
      "貼文時間:2021-06-02T16:15:46.808Z\n",
      "留言人數:66\n",
      "按讚人數:153\n",
      "標題:幫你上課的貓\n",
      "貼文時間:2021-06-02T17:13:23.516Z\n",
      "留言人數:11\n",
      "按讚人數:127\n",
      "標題:還以為是養貓 原來是老鼠呢🐭\n",
      "貼文時間:2021-06-02T17:13:11.628Z\n",
      "留言人數:11\n",
      "按讚人數:110\n",
      "標題:#問 過度黏人的貓咪\n",
      "貼文時間:2021-06-02T17:02:53.121Z\n",
      "留言人數:17\n",
      "按讚人數:110\n",
      "標題:是狗還是貓😳\n",
      "貼文時間:2021-06-03T10:15:52.017Z\n",
      "留言人數:9\n",
      "按讚人數:108\n",
      "標題:完全無法理解的姿勢\n",
      "貼文時間:2021-06-03T16:31:36.341Z\n",
      "留言人數:10\n",
      "按讚人數:97\n",
      "標題:到處躺的貓\n",
      "貼文時間:2021-06-03T09:14:55.452Z\n",
      "留言人數:5\n",
      "按讚人數:45\n",
      "標題:偷窺貓\n",
      "貼文時間:2021-06-03T07:31:46.871Z\n",
      "留言人數:0\n",
      "按讚人數:45\n",
      "標題:金橘的新貓碗😸😸\n",
      "貼文時間:2021-06-03T05:04:42.201Z\n",
      "留言人數:4\n",
      "按讚人數:43\n",
      "標題:新成員報到！🌸\n",
      "貼文時間:2021-06-03T11:30:49.004Z\n",
      "留言人數:12\n",
      "按讚人數:40\n",
      "標題:倉鼠毛髒掉該腫麼辦\n",
      "貼文時間:2021-06-02T19:00:52.132Z\n",
      "留言人數:7\n",
      "按讚人數:34\n",
      "標題:小貓指甲要怎麼剪\n",
      "貼文時間:2021-06-03T08:00:58.177Z\n",
      "留言人數:15\n",
      "按讚人數:29\n",
      "標題:天然化毛膏\n",
      "貼文時間:2021-06-03T09:00:51.973Z\n",
      "留言人數:3\n",
      "按讚人數:27\n",
      "標題:請問這是什麼品種貓\n",
      "貼文時間:2021-06-03T10:23:46.134Z\n",
      "留言人數:12\n",
      "按讚人數:24\n",
      "標題:我家的狗也有特異功能！？\n",
      "貼文時間:2021-06-03T11:19:06.938Z\n",
      "留言人數:0\n",
      "按讚人數:23\n",
      "標題:身為愛貓的我好難過\n",
      "貼文時間:2021-06-03T01:11:45.141Z\n",
      "留言人數:18\n",
      "按讚人數:22\n",
      "標題:以愛之名的餵養流浪動物，卻帶來無數傷害\n",
      "貼文時間:2021-06-03T02:38:54.559Z\n",
      "留言人數:3\n",
      "按讚人數:19\n",
      "標題:養貓可以漲知識（內有蟲圖:P\n",
      "貼文時間:2021-06-02T19:47:43.251Z\n",
      "留言人數:7\n",
      "按讚人數:17\n",
      "標題:阿志是狗不是人的名字😆\n",
      "貼文時間:2021-06-04T02:04:56.065Z\n",
      "留言人數:4\n",
      "按讚人數:15\n",
      "標題:我好想你 你在上面有認真上課嗎？\n",
      "貼文時間:2021-06-03T04:09:13.952Z\n",
      "留言人數:4\n",
      "按讚人數:15\n",
      "標題:怎麼做才能讓牠幸福呢...（圖、影片多）\n",
      "貼文時間:2021-06-03T16:38:43.005Z\n",
      "留言人數:5\n",
      "按讚人數:13\n",
      "標題:療癒系邊牧\n",
      "貼文時間:2021-06-03T16:33:34.607Z\n",
      "留言人數:2\n",
      "按讚人數:12\n",
      "標題:黑灰兩兄弟日常😆\n",
      "貼文時間:2021-06-03T15:11:11.973Z\n",
      "留言人數:0\n",
      "按讚人數:9\n",
      "標題:永遠不睡窩的鼠\n",
      "貼文時間:2021-06-03T21:37:53.400Z\n",
      "留言人數:3\n",
      "按讚人數:8\n",
      "標題:興X動物醫院 結紮變拿胰臟😡\n",
      "貼文時間:2021-06-03T14:21:13.098Z\n",
      "留言人數:4\n",
      "按讚人數:7\n",
      "標題:怎麼改善貓咪黏人\n",
      "貼文時間:2021-06-03T09:30:48.317Z\n",
      "留言人數:5\n",
      "按讚人數:7\n",
      "標題:我的貓 怕恐龍🦖\n",
      "貼文時間:2021-06-02T16:23:39.405Z\n",
      "留言人數:0\n",
      "按讚人數:6\n"
     ]
    }
   ],
   "source": [
    "# 2. 取出每一筆資料的「標題」、「貼文時間」、「留言人數」、「按讚人數」\n",
    "\n",
    "'''\n",
    "Your Code\n",
    "'''\n",
    "for i in data:\n",
    "    print(\"標題:\"+i[\"title\"])\n",
    "    print(\"貼文時間:\"+i['createdAt'])\n",
    "    print(\"留言人數:\"+str(i[\"commentCount\"]))\n",
    "    print(\"按讚人數:\"+str(i[\"likeCount\"]))\n",
    "    "
   ]
  },
  {
   "cell_type": "code",
   "execution_count": 37,
   "metadata": {},
   "outputs": [],
   "source": [
    "# 3. 計算熱門/非熱門文章的「平均留言人數」與「平均按讚人數」\n",
    "\n",
    "'''\n",
    "Your Code\n",
    "'''\n",
    "pop_comment=0\n",
    "pop_like =0\n",
    "\n",
    "for i in data:\n",
    "    pop_comment+=i[\"commentCount\"]\n",
    "    pop_like+=i[\"likeCount\"]\n",
    "\n",
    "r_2=requests.get(\"https://www.dcard.tw/_api/forums/pet/posts?popular=false\")\n",
    "response_2 = r_2.text\n",
    "data_2 = json.loads(response_2)\n",
    "no_comment=0\n",
    "no_like =0\n",
    "for i in data_2:\n",
    "    no_comment+=i[\"commentCount\"]\n",
    "    no_like+=i[\"likeCount\"]\n",
    "\n",
    "    \n",
    "    \n",
    "    "
   ]
  },
  {
   "cell_type": "code",
   "execution_count": 40,
   "metadata": {},
   "outputs": [
    {
     "name": "stdout",
     "output_type": "stream",
     "text": [
      "熱門文章平均留言人數: 11.6\n",
      "熱門文章平均按讚人數: 91.8\n",
      "非熱門文章平均留言人數: 1.6\n",
      "非熱門文章平均按讚人數: 7.0\n"
     ]
    }
   ],
   "source": [
    "print(\"熱門文章平均留言人數:\",round(pop_comment/len(data),1))\n",
    "print(\"熱門文章平均按讚人數:\",round(pop_like/len(data),1))\n",
    "print(\"非熱門文章平均留言人數:\",round(no_comment/len(data_2),1))\n",
    "print(\"非熱門文章平均按讚人數:\",round(no_like/len(data_2),1))"
   ]
  },
  {
   "cell_type": "code",
   "execution_count": null,
   "metadata": {},
   "outputs": [],
   "source": []
  }
 ],
 "metadata": {
  "kernelspec": {
   "display_name": "Python 3",
   "language": "python",
   "name": "python3"
  },
  "language_info": {
   "codemirror_mode": {
    "name": "ipython",
    "version": 3
   },
   "file_extension": ".py",
   "mimetype": "text/x-python",
   "name": "python",
   "nbconvert_exporter": "python",
   "pygments_lexer": "ipython3",
   "version": "3.8.1"
  }
 },
 "nbformat": 4,
 "nbformat_minor": 4
}
