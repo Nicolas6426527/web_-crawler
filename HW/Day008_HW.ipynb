{
 "cells": [
  {
   "cell_type": "markdown",
   "metadata": {},
   "source": [
    "# 靜態網頁的資料爬蟲策略\n",
    "\n",
    "\n",
    "* 了解靜態網頁的資料爬蟲策略\n",
    "* 認識適用於靜態網頁爬蟲的相關套件工具：Request\n",
    "* 認識適用於靜態網頁爬蟲的相關套件工具：BeatifulSoup"
   ]
  },
  {
   "cell_type": "markdown",
   "metadata": {},
   "source": [
    "## 作業目標\n",
    "\n",
    "利用 Request + BeatifulSoup 爬取下列兩個網站內容並解析：\n",
    "\n",
    "1. Dcared 網址： https://www.dcard.tw/f\n",
    "2. 知乎： https://www.zhihu.com/explore\n",
    "\n",
    "並且回答下面問題：\n",
    "\n",
    "1. Request 取回之後該怎麼取出資料，資料型態是什麼？\n",
    "2. 為什麼要使用 BeatifulSoup 處理？處理後的型態是什麼？\n",
    "3. 觀察一下知乎回來的資料好像有點怪怪的，該怎麼解決？"
   ]
  },
  {
   "cell_type": "markdown",
   "metadata": {},
   "source": [
    "### 1. Dcard 網址： https://www.dcard.tw/f"
   ]
  },
  {
   "cell_type": "code",
   "execution_count": 1,
   "metadata": {},
   "outputs": [],
   "source": [
    "import requests\n",
    "from bs4 import BeautifulSoup\n"
   ]
  },
  {
   "cell_type": "code",
   "execution_count": 2,
   "metadata": {},
   "outputs": [
    {
     "name": "stdout",
     "output_type": "stream",
     "text": [
      "<!DOCTYPE html><html lang=\"zh-TW\"><head prefix=\"og: http://ogp.me/ns#\" itemscope=\"\" itemType=\"https://schema.org/WebSite\"><meta http-equiv=\"X-UA-Compatible\" content=\"IE=edge\"/><meta name=\"apple-mobile-web-app-status-bar-style\" content=\"default\"/><meta name=\"theme-color\" content=\"#006aa6\"/><meta name=\"mobile-web-app-capable\" content=\"yes\"/><meta name=\"apple-mobile-web-app-capable\" content=\"yes\"/><meta name=\"supported-color-schemes\" content=\"light\"/><meta property=\"fb:app_id\" content=\"211628828926493\"/><meta property=\"fb:pages\" content=\"178875832200695,577748865730563,1333515469994506,619122564952487,804004803032067,178024805867764\"/><link rel=\"preconnect\" href=\"https://fonts.googleapis.com\" crossorigin=\"true\"/><link rel=\"preconnect\" href=\"https://fonts.gstatic.com\" crossorigin=\"true\"/><link rel=\"dns-prefetch\" href=\"https://fonts.googleapis.com\"/><link rel=\"dns-prefetch\" href=\"https://fonts.gstatic.com\"/><link rel=\"dns-prefetch\" href=\"https://megapx-assets.dcard.tw\"/><link rel=\"dns-prefetch\" href=\"https://gcs.dcard.tw\"/><link rel=\"dns-prefetch\" href=\"https://imgur.dcard.tw\"/><link rel=\"preload\" href=\"https://fonts.googleapis.com/css2?family=Roboto:wght@400;500;700&amp;display=swap\" as=\"style\"/><link rel=\"stylesheet\" href=\"https://fonts.googleapis.com/css2?family=Roboto:wght@400;500;700&amp;display=swap\"/><meta charSet=\"utf-8\"/><meta name=\"application-name\" content=\"Dcard\"/><meta property=\"al:ios:app_name\" content=\"Dcard\"/><meta property=\"al:android:app_name\" content=\"Dcard\"/><meta name=\"apple-itunes-app\" content=\"app-id=951353454\"/><meta property=\"al:ios:app_store_id\" content=\"951353454\"/><meta property=\"al:android:package\" content=\"com.sparkslab.dcardreader\"/><link rel=\"manifest\" href=\"/_next/static/manifest-dcard.json\"/><link rel=\"icon\" type=\"image/png\" sizes=\"48x48\" href=\"/_next/static/media/dcard-icon-48-ed236519a9f1e19ecd7a05bbc43216c9.png\"/><link rel=\"icon\" type=\"image/png\" sizes=\"96x96\" href=\"/_next/static/media/dcard-icon-96-67d4c5f6a7cc6026406b70304936937d.png\"/><link rel=\"icon\" type=\"image/png\" sizes=\"144x144\" href=\"/_next/static/media/dcard-icon-144-f12595f1f04d1d78159ea1a26d952990.png\"/><link rel=\"icon\" type=\"image/png\" sizes=\"192x192\" href=\"/_next/static/media/dcard-icon-192-9f379614ba04e71a6c6c565457e0c389.png\"/><link rel=\"apple-touch-icon\" type=\"image/png\" sizes=\"57x57\" href=\"/_next/static/media/dcard-icon-57-6abc10d866571c5134884eab30bde2b0.png\"/><link rel=\"apple-touch-icon\" type=\"image/png\" sizes=\"72x72\" href=\"/_next/static/media/dcard-icon-72-29f99c18ac7c1c612d11d2a55b423607.png\"/><link rel=\"apple-touch-icon\" type=\"image/png\" sizes=\"76x76\" href=\"/_next/static/media/dcard-icon-76-74656fc06f60d610b228e1038a365eed.png\"/><link rel=\"apple-touch-icon\" type=\"image/png\" sizes=\"114x114\" href=\"/_next/static/media/dcard-icon-114-58a826f20cd08881308375de7b7ce582.png\"/><link rel=\"apple-touch-icon\" type=\"image/png\" sizes=\"120x120\" href=\"/_next/static/media/dcard-icon-120-00822c733e25ba05959c53cd12fafd04.png\"/><link rel=\"apple-touch-icon\" type=\"\n"
     ]
    }
   ],
   "source": [
    "url = 'https://www.dcard.tw/f'\n",
    "\n",
    "'''\n",
    "Your Code Here\n",
    "'''\n",
    "r =requests.get(url)\n",
    "r.encoding = 'utf-8'\n",
    "print(r.text[0:3000])"
   ]
  },
  {
   "cell_type": "code",
   "execution_count": 3,
   "metadata": {},
   "outputs": [
    {
     "name": "stdout",
     "output_type": "stream",
     "text": [
      "Request 取回之後該怎麼取出資料，資料型態是什麼？ =>\n"
     ]
    },
    {
     "data": {
      "text/plain": [
       "str"
      ]
     },
     "execution_count": 3,
     "metadata": {},
     "output_type": "execute_result"
    }
   ],
   "source": [
    "print('Request 取回之後該怎麼取出資料，資料型態是什麼？ =>')\n",
    "\n",
    "'''\n",
    "Your Code Here\n",
    "'''\n",
    "type(r.text)"
   ]
  },
  {
   "cell_type": "code",
   "execution_count": 5,
   "metadata": {},
   "outputs": [
    {
     "name": "stdout",
     "output_type": "stream",
     "text": [
      "為什麼要使用 BeatifulSoup 處理？處理後的型態是什麼？ => \n",
      "<!DOCTYPE html>\n",
      "<html lang=\"zh-TW\"><head itemscope=\"\" itemtype=\"https://schema.org/WebSite\" prefix=\"og: http://ogp.me/ns#\"><meta content=\"IE=edge\" http-equiv=\"X-UA-Compatible\"/><meta content=\"default\" name=\"apple-mobile-web-app-status-bar-style\"/><meta content=\"#006aa6\" name=\"theme-color\"/><meta content=\"yes\" name=\"mobile-web-app-capable\"/><meta content=\"yes\" name=\"apple-mobile-web-app-capable\"/><meta content=\"light\" name=\"supported-color-schemes\"/><meta content=\"211628828926493\" property=\"fb:app_id\"/><meta content=\"178875832200695,577748865730563,1333515469994506,619122564952487,804004803032067,178024805867764\" property=\"fb:pages\"/><link crossorigin=\"true\" href=\"https://fonts.googleapis.com\" rel=\"preconnect\"/><link crossorigin=\"true\" href=\"https://fonts.gstatic.com\" rel=\"preconnect\"/><link href=\"https://fonts.googleapis.com\" rel=\"dns-prefetch\"/><link href=\"https://fonts.gstatic.com\" rel=\"dns-prefetch\"/><link href=\"https://megapx-assets.dcard.tw\" rel=\"dns-prefetch\"/><link href=\"https://gcs.dcard.tw\" rel=\"dns-prefetch\"/><link href=\"https://imgur.dcard.tw\" rel=\"dns-prefetch\"/><link as=\"style\" href=\"https://fonts.googleapis.com/css2?family=Roboto:wght@400;500;700&amp;display=swap\" rel=\"preload\"/><link href=\"https://fonts.googleapis.com/css2?family=Roboto:wght@400;500;700&amp;display=swap\" rel=\"stylesheet\"/><meta charset=\"utf-8\"/><meta content=\"Dcard\" name=\"application-name\"/><meta content=\"Dcard\" property=\"al:ios:app_name\"/><meta content=\"Dcard\" property=\"al:android:app_name\"/><meta content=\"app-id=951353454\" name=\"apple-itunes-app\"/><meta content=\"951353454\" property=\"al:ios:app_store_id\"/><meta content=\"com.sparkslab.dcardreader\" property=\"al:android:package\"/><link href=\"/_next/static/manifest-dcard.json\" rel=\"manifest\"/><link href=\"/_next/static/media/dcard-icon-48-ed236519a9f1e19ecd7a05bbc43216c9.png\" rel=\"icon\" sizes=\"48x48\" type=\"image/png\"/><link href=\"/_next/static/media/dcard-icon-96-67d4c5f6a7cc6026406b70304936937d.png\" rel=\"icon\" sizes=\"96x96\" type=\"image/png\"/><link href=\"/_next/static/media/dcard-icon-144-f12595f1f04d1d78159ea1a26d952990.png\" rel=\"icon\" sizes=\"144x144\" type=\"image/png\"/><link href=\"/_next/static/media/dcard-icon-192-9f379614ba04e71a6c6c565457e0c389.png\" rel=\"icon\" sizes=\"192x192\" type=\"image/png\"/><link href=\"/_next/static/media/dcard-icon-57-6abc10d866571c5134884eab30bde2b0.png\" rel=\"apple-touch-icon\" sizes=\"57x57\" type=\"image/png\"/><link href=\"/_next/static/media/dcard-icon-72-29f99c18ac7c1c612d11d2a55b423607.png\" rel=\"apple-touch-icon\" sizes=\"72x72\" type=\"image/png\"/><link href=\"/_next/static/media/dcard-icon-76-74656fc06f60d610b228e1038a365eed.png\" rel=\"apple-touch-icon\" sizes=\"76x76\" type=\"image/png\"/><link href=\"/_next/static/media/dcard-icon-114-58a826f20cd08881308375de7b7ce582.png\" rel=\"apple-touch-icon\" sizes=\"114x114\" type=\"image/png\"/><link href=\"/_next/static/media/dcard-icon-120-00822c733e25ba05959c53cd12fafd04.png\" rel=\"apple-touch-icon\" sizes=\"120x120\" type=\"image/png\"/></head><body></body></html>\n",
      "<class 'bs4.BeautifulSoup'>\n"
     ]
    }
   ],
   "source": [
    "print('為什麼要使用 BeatifulSoup 處理？處理後的型態是什麼？ => ')\n",
    "\n",
    "'''\n",
    "Your Code Here\n",
    "'''\n",
    "soup = BeautifulSoup(r.text[0:3000],\"html5lib\")\n",
    "print(soup)\n",
    "print(type(soup))"
   ]
  },
  {
   "cell_type": "markdown",
   "metadata": {},
   "source": [
    "### 2. 知乎： https://www.zhihu.com/explore"
   ]
  },
  {
   "cell_type": "code",
   "execution_count": 6,
   "metadata": {},
   "outputs": [
    {
     "name": "stdout",
     "output_type": "stream",
     "text": [
      "<html>\n",
      "<head><title>403 Forbidden</title></head>\n",
      "<body bgcolor=\"white\">\n",
      "<center><h1>403 Forbidden</h1></center>\n",
      "<hr><center>openresty</center>\n",
      "</body>\n",
      "</html>\n",
      "\n"
     ]
    }
   ],
   "source": [
    "url = 'https://www.zhihu.com/explore'\n",
    "r = requests.get(url)\n",
    "r.encoding = 'utf-8'\n",
    "\n",
    "print(r.text[0:600])"
   ]
  },
  {
   "cell_type": "markdown",
   "metadata": {},
   "source": [
    "### 3. 觀察一下知乎回來的資料好像有點怪怪的，該怎麼解決？"
   ]
  },
  {
   "cell_type": "code",
   "execution_count": 8,
   "metadata": {},
   "outputs": [
    {
     "name": "stdout",
     "output_type": "stream",
     "text": [
      "<!doctype html>\n",
      "<html lang=\"zh\" data-hairline=\"true\" data-theme=\"light\"><head><meta charSet=\"utf-8\"/><title data-react-helmet=\"true\">发现 - 知乎</title><meta name=\"viewport\" content=\"width=device-width,initial-scale=1,maximum-scale=1\"/><meta name=\"renderer\" content=\"webkit\"/><meta name=\"force-rendering\" content=\"webkit\"/><meta http-equiv=\"X-UA-Compatible\" content=\"IE=edge,chrome=1\"/><meta name=\"google-site-verification\" content=\"FTeR0c8arOPKh8c5DYh_9uu98_zJbaWw53J-Sch9MTg\"/><meta name=\"description\" property=\"og:description\" content=\"知乎，中文互联网高质量的问答社区和创作者聚集的原创内容平台，于 2011 年 1 月正式上线，以「让人们更好地分享知识、经验和见解\n"
     ]
    }
   ],
   "source": [
    "import requests\n",
    "url = 'https://www.zhihu.com/explore'\n",
    "headers = {\"user-agent\":\"Mozilla/5.0 (Macintosh; Intel Mac OS X 10_15_7) AppleWebKit/537.36 (KHTML, like Gecko) Chrome/90.0.4430.212 Safari/537.36\"}\n",
    "'''\n",
    "Your Code Here\n",
    "'''\n",
    "\n",
    "r = requests.get(url ,headers=headers)\n",
    "\n",
    "r.encoding = 'utf-8'\n",
    "print(r.text[0:600])"
   ]
  },
  {
   "cell_type": "code",
   "execution_count": null,
   "metadata": {},
   "outputs": [],
   "source": []
  },
  {
   "cell_type": "code",
   "execution_count": null,
   "metadata": {},
   "outputs": [],
   "source": []
  }
 ],
 "metadata": {
  "kernelspec": {
   "display_name": "Python 3",
   "language": "python",
   "name": "python3"
  },
  "language_info": {
   "codemirror_mode": {
    "name": "ipython",
    "version": 3
   },
   "file_extension": ".py",
   "mimetype": "text/x-python",
   "name": "python",
   "nbconvert_exporter": "python",
   "pygments_lexer": "ipython3",
   "version": "3.8.1"
  }
 },
 "nbformat": 4,
 "nbformat_minor": 4
}
