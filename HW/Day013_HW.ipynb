{
 "cells": [
  {
   "cell_type": "markdown",
   "metadata": {},
   "source": [
    "# PTT 網路爬蟲實作練習\n",
    "\n",
    "\n",
    "* 能夠利用 Request + BeatifulSour 撰寫爬蟲，並存放到合適的資料結構\n"
   ]
  },
  {
   "cell_type": "markdown",
   "metadata": {},
   "source": [
    "## 作業目標\n",
    "\n",
    "根據範例 ，完成以下問題：\n",
    "\n",
    "* ① 印出最新文章的「作者」「標題」「時間」\n",
    "* ② 印出第一頁所有文章的「作者」「標題」「時間」\n"
   ]
  },
  {
   "cell_type": "markdown",
   "metadata": {},
   "source": [
    "### ① 印出最新文章的「作者」「標題」「時間」"
   ]
  },
  {
   "cell_type": "code",
   "execution_count": 31,
   "metadata": {},
   "outputs": [],
   "source": [
    "'''\n",
    "Your Code\n",
    "'''\n",
    "import requests\n",
    "from bs4 import BeautifulSoup\n",
    "\n",
    "url = 'https://www.ptt.cc/bbs/NBA/index.html'\n",
    "r = requests.get(url)"
   ]
  },
  {
   "cell_type": "code",
   "execution_count": 32,
   "metadata": {},
   "outputs": [
    {
     "name": "stdout",
     "output_type": "stream",
     "text": [
      "[情報] 快艇在主場二連敗(0-2)後贏下系列賽\n",
      "作者: avrild12 (78elic)\n",
      "時間:Mon Jun  7 08:24:09 2021\n",
      "[公告] 水桶 x 15 + 記者廖柏璋LBZ條款\n",
      "作者: pneumo (超☆冒險蓋)\n",
      "時間:Mon Jun  7 09:04:05 2021\n",
      "(本文已被刪除) [h1212123tw]\n",
      "[討論] 老鷹和小犢是不是證明了躲東區很爽\n",
      "作者: Bz5566 (只剩協志和仁甫的5566)\n",
      "時間:Mon Jun  7 09:18:59 2021\n",
      "[討論] 季後賽第一輪EFF排名/得分/命中率(EFF20+)\n",
      "作者: MrSatan (老大!!!!!!!!)\n",
      "時間:Mon Jun  7 09:39:27 2021\n",
      "[情報] Quin Snyder：快艇的陣容深度讓他們變得獨一無二\n",
      "作者: laptic (靜夜聖林彼岸花)\n",
      "時間:Mon Jun  7 10:00:03 2021\n",
      "Re: [討論] 獨行俠這到底什麼交易\n",
      "作者: joulin (joulin)\n",
      "時間:Mon Jun  7 10:10:21 2021\n",
      "[討論] 快艇vs爵士看好誰？\n",
      "作者: liuuuuuu (倘若那天)\n",
      "時間:Mon Jun  7 10:22:51 2021\n",
      "[花邊] NBA打壓亞裔？韓裔影星貼數據聲援林書豪\n",
      "作者: XperiaZ6C (索尼)\n",
      "時間:Mon Jun  7 10:36:16 2021\n",
      "[討論] NBA季後賽第一輪單場得分40+\n",
      "作者: a221657947 (a221657947)\n",
      "時間:Mon Jun  7 11:28:44 2021\n",
      "[情報] 戰勝獨行俠後，Tyronn Lue執教生涯搶七\n",
      "作者: fack3170 (法克)\n",
      "時間:Mon Jun  7 11:55:15 2021\n",
      "[情報] Playoffs Schedule 20–21\n",
      "作者: laptic (靜夜聖林彼岸花)\n",
      "時間:Wed May 19 00:35:47 2021\n",
      "[情報] 2020-21 NBA Playoffs (Next：06/08 鹿網 G2/陽金 G1)\n",
      "作者: laptic (靜夜聖林彼岸花)\n",
      "時間:Mon May 17 12:01:32 2021\n",
      "[公告] 板規v7.2\n",
      "[公告] NBA_Picket 檢舉板上線 \n",
      "作者: Induction (愛人愛己)\n",
      "時間:Fri Jun  4 04:40:51 2021\n",
      "[公告] 季後賽條款\n",
      "作者: Induction (愛人愛己)\n",
      "時間:Mon May 24 04:02:16 2021\n"
     ]
    }
   ],
   "source": [
    "soup = BeautifulSoup(r.text, \"html5lib\")\n",
    "for d in soup.find_all(class_=\"title\"):\n",
    "    print(d.text.replace('\\t', '').replace('\\n', ''))\n",
    "    try:\n",
    "        r = BeautifulSoup(requests.get('https://www.ptt.cc'+d.find('a')['href']).text, \"html5lib\")\n",
    "        print('作者: ' + r.find(class_='article-meta-value').text)\n",
    "        print(\"時間:\"+r.find_all(class_='article-meta-value')[-1].text)\n",
    "        \n",
    "    except:\n",
    "        continue"
   ]
  },
  {
   "cell_type": "markdown",
   "metadata": {},
   "source": [
    "### ② 印出第一頁所有文章的「作者」「標題」「時間」"
   ]
  },
  {
   "cell_type": "code",
   "execution_count": 33,
   "metadata": {},
   "outputs": [
    {
     "name": "stdout",
     "output_type": "stream",
     "text": [
      "[情報] 快艇在主場二連敗(0-2)後贏下系列賽\n",
      "作者: avrild12 (78elic)\n",
      "時間:Mon Jun  7 08:24:09 2021\n",
      "[公告] 水桶 x 15 + 記者廖柏璋LBZ條款\n",
      "作者: pneumo (超☆冒險蓋)\n",
      "時間:Mon Jun  7 09:04:05 2021\n",
      "(本文已被刪除) [h1212123tw]\n",
      "[討論] 老鷹和小犢是不是證明了躲東區很爽\n",
      "作者: Bz5566 (只剩協志和仁甫的5566)\n",
      "時間:Mon Jun  7 09:18:59 2021\n",
      "[討論] 季後賽第一輪EFF排名/得分/命中率(EFF20+)\n",
      "作者: MrSatan (老大!!!!!!!!)\n",
      "時間:Mon Jun  7 09:39:27 2021\n",
      "[情報] Quin Snyder：快艇的陣容深度讓他們變得獨一無二\n",
      "作者: laptic (靜夜聖林彼岸花)\n",
      "時間:Mon Jun  7 10:00:03 2021\n",
      "Re: [討論] 獨行俠這到底什麼交易\n",
      "作者: joulin (joulin)\n",
      "時間:Mon Jun  7 10:10:21 2021\n",
      "[討論] 快艇vs爵士看好誰？\n",
      "作者: liuuuuuu (倘若那天)\n",
      "時間:Mon Jun  7 10:22:51 2021\n",
      "[花邊] NBA打壓亞裔？韓裔影星貼數據聲援林書豪\n",
      "作者: XperiaZ6C (索尼)\n",
      "時間:Mon Jun  7 10:36:16 2021\n",
      "[討論] NBA季後賽第一輪單場得分40+\n",
      "作者: a221657947 (a221657947)\n",
      "時間:Mon Jun  7 11:28:44 2021\n",
      "[情報] 戰勝獨行俠後，Tyronn Lue執教生涯搶七\n",
      "作者: fack3170 (法克)\n",
      "時間:Mon Jun  7 11:55:15 2021\n",
      "[情報] Playoffs Schedule 20–21\n",
      "作者: laptic (靜夜聖林彼岸花)\n",
      "時間:Wed May 19 00:35:47 2021\n",
      "[情報] 2020-21 NBA Playoffs (Next：06/08 鹿網 G2/陽金 G1)\n",
      "作者: laptic (靜夜聖林彼岸花)\n",
      "時間:Mon May 17 12:01:32 2021\n",
      "[公告] 板規v7.2\n",
      "[公告] NBA_Picket 檢舉板上線 \n",
      "作者: Induction (愛人愛己)\n",
      "時間:Fri Jun  4 04:40:51 2021\n",
      "[公告] 季後賽條款\n",
      "作者: Induction (愛人愛己)\n",
      "時間:Mon May 24 04:02:16 2021\n"
     ]
    }
   ],
   "source": [
    "'''\n",
    "Your Code\n",
    "'''\n",
    "for d in soup.find_all(class_=\"title\"):\n",
    "    print(d.text.replace('\\t', '').replace('\\n', ''))\n",
    "    try:\n",
    "        r = BeautifulSoup(requests.get('https://www.ptt.cc'+d.find('a')['href']).text, \"html5lib\")\n",
    "        print('作者: ' + r.find(class_='article-meta-value').text)\n",
    "        print(\"時間:\"+r.find_all(class_='article-meta-value')[-1].text)\n",
    "        \n",
    "    except:\n",
    "        continue"
   ]
  },
  {
   "cell_type": "markdown",
   "metadata": {},
   "source": [
    "### ③ 試著爬爬看其他版的文章"
   ]
  },
  {
   "cell_type": "code",
   "execution_count": null,
   "metadata": {},
   "outputs": [],
   "source": [
    "'''\n",
    "Your Code\n",
    "'''\n",
    "#PTT八卦版\n",
    "url2 = 'https://www.ptt.cc/bbs/Gossiping/index.html'\n",
    "#八卦版須加cookies\n",
    "r1 = requests.get(url2,cookies={'over18':'1'})\n",
    "soup1 = BeautifulSoup(r1.text)\n",
    "#print(soup1.prettify())"
   ]
  },
  {
   "cell_type": "code",
   "execution_count": null,
   "metadata": {},
   "outputs": [],
   "source": [
    "#第二次requests還要再加一次cookies\n",
    "P1=[]\n",
    "for d in soup1.find_all(class_=\"r-ent\"):\n",
    "   \n",
    "    try:\n",
    "        post1={}\n",
    "        r1 = BeautifulSoup(requests.get('https://www.ptt.cc{}'.format(d.find('a')['href']),cookies={'over18':'1'}).text)\n",
    "        \n",
    "        post1['標題'] = r1.find_all(class_='article-meta-value')[2].text.replace('\\t', '').replace('\\n', '')\n",
    "        post1['作者'] = r1.find(class_='article-meta-value').text\n",
    "        post1['時間'] = r1.find_all(class_='article-meta-value')[-1].text\n",
    "        \n",
    "        P1.append(post1)\n",
    "        print('標題：',post1['標題'])\n",
    "        print('作者：',post1['作者'])\n",
    "        print('時間：',post1['時間'])\n",
    "        print('\\n')\n",
    "    \n",
    "    except:\n",
    "        continue"
   ]
  }
 ],
 "metadata": {
  "kernelspec": {
   "display_name": "Python 3",
   "language": "python",
   "name": "python3"
  },
  "language_info": {
   "codemirror_mode": {
    "name": "ipython",
    "version": 3
   },
   "file_extension": ".py",
   "mimetype": "text/x-python",
   "name": "python",
   "nbconvert_exporter": "python",
   "pygments_lexer": "ipython3",
   "version": "3.8.1"
  }
 },
 "nbformat": 4,
 "nbformat_minor": 4
}
